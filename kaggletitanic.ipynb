{
 "cells": [
  {
   "cell_type": "code",
   "execution_count": 1,
   "id": "a0ef868d",
   "metadata": {
    "_cell_guid": "b1076dfc-b9ad-4769-8c92-a6c4dae69d19",
    "_uuid": "8f2839f25d086af736a60e9eeb907d3b93b6e0e5",
    "execution": {
     "iopub.execute_input": "2022-06-22T13:40:10.218027Z",
     "iopub.status.busy": "2022-06-22T13:40:10.217179Z",
     "iopub.status.idle": "2022-06-22T13:40:11.380762Z",
     "shell.execute_reply": "2022-06-22T13:40:11.379832Z"
    },
    "papermill": {
     "duration": 1.171312,
     "end_time": "2022-06-22T13:40:11.383140",
     "exception": false,
     "start_time": "2022-06-22T13:40:10.211828",
     "status": "completed"
    },
    "tags": []
   },
   "outputs": [],
   "source": [
    "# importing packages\n",
    "import string\n",
    "import numpy as np # linear algebra\n",
    "import pandas as pd # data processing, CSV file I/O (e.g. pd.read_csv)\n",
    "import matplotlib.pyplot as plt\n",
    "import seaborn as sns\n",
    "from IPython.core.interactiveshell import InteractiveShell\n",
    "InteractiveShell\n",
    "\n",
    "# setting package beheaviors\n",
    "## set Seaborn style\n",
    "sns.set(style = \"darkgrid\")\n",
    "## enable multiple output by IPython core\n",
    "InteractiveShell.ast_node_interactivity = \"all\""
   ]
  },
  {
   "cell_type": "code",
   "execution_count": 2,
   "id": "45bf28f8",
   "metadata": {
    "execution": {
     "iopub.execute_input": "2022-06-22T13:40:11.390197Z",
     "iopub.status.busy": "2022-06-22T13:40:11.389804Z",
     "iopub.status.idle": "2022-06-22T13:40:11.497298Z",
     "shell.execute_reply": "2022-06-22T13:40:11.496039Z"
    },
    "papermill": {
     "duration": 0.114142,
     "end_time": "2022-06-22T13:40:11.500289",
     "exception": false,
     "start_time": "2022-06-22T13:40:11.386147",
     "status": "completed"
    },
    "tags": []
   },
   "outputs": [
    {
     "name": "stdout",
     "output_type": "stream",
     "text": [
      "Shape of Training Set: (891, 12)\n",
      "Shape of Test Set: (418, 11)\n"
     ]
    },
    {
     "data": {
      "text/html": [
       "<div>\n",
       "<style scoped>\n",
       "    .dataframe tbody tr th:only-of-type {\n",
       "        vertical-align: middle;\n",
       "    }\n",
       "\n",
       "    .dataframe tbody tr th {\n",
       "        vertical-align: top;\n",
       "    }\n",
       "\n",
       "    .dataframe thead th {\n",
       "        text-align: right;\n",
       "    }\n",
       "</style>\n",
       "<table border=\"1\" class=\"dataframe\">\n",
       "  <thead>\n",
       "    <tr style=\"text-align: right;\">\n",
       "      <th></th>\n",
       "      <th>PassengerId</th>\n",
       "      <th>Survived</th>\n",
       "      <th>Pclass</th>\n",
       "      <th>Name</th>\n",
       "      <th>Sex</th>\n",
       "      <th>Age</th>\n",
       "      <th>SibSp</th>\n",
       "      <th>Parch</th>\n",
       "      <th>Ticket</th>\n",
       "      <th>Fare</th>\n",
       "      <th>Cabin</th>\n",
       "      <th>Embarked</th>\n",
       "    </tr>\n",
       "  </thead>\n",
       "  <tbody>\n",
       "    <tr>\n",
       "      <th>472</th>\n",
       "      <td>473</td>\n",
       "      <td>1</td>\n",
       "      <td>2</td>\n",
       "      <td>West, Mrs. Edwy Arthur (Ada Mary Worth)</td>\n",
       "      <td>female</td>\n",
       "      <td>33.00</td>\n",
       "      <td>1</td>\n",
       "      <td>2</td>\n",
       "      <td>C.A. 34651</td>\n",
       "      <td>27.7500</td>\n",
       "      <td>NaN</td>\n",
       "      <td>S</td>\n",
       "    </tr>\n",
       "    <tr>\n",
       "      <th>305</th>\n",
       "      <td>306</td>\n",
       "      <td>1</td>\n",
       "      <td>1</td>\n",
       "      <td>Allison, Master. Hudson Trevor</td>\n",
       "      <td>male</td>\n",
       "      <td>0.92</td>\n",
       "      <td>1</td>\n",
       "      <td>2</td>\n",
       "      <td>113781</td>\n",
       "      <td>151.5500</td>\n",
       "      <td>C22 C26</td>\n",
       "      <td>S</td>\n",
       "    </tr>\n",
       "    <tr>\n",
       "      <th>71</th>\n",
       "      <td>72</td>\n",
       "      <td>0</td>\n",
       "      <td>3</td>\n",
       "      <td>Goodwin, Miss. Lillian Amy</td>\n",
       "      <td>female</td>\n",
       "      <td>16.00</td>\n",
       "      <td>5</td>\n",
       "      <td>2</td>\n",
       "      <td>CA 2144</td>\n",
       "      <td>46.9000</td>\n",
       "      <td>NaN</td>\n",
       "      <td>S</td>\n",
       "    </tr>\n",
       "    <tr>\n",
       "      <th>548</th>\n",
       "      <td>549</td>\n",
       "      <td>0</td>\n",
       "      <td>3</td>\n",
       "      <td>Goldsmith, Mr. Frank John</td>\n",
       "      <td>male</td>\n",
       "      <td>33.00</td>\n",
       "      <td>1</td>\n",
       "      <td>1</td>\n",
       "      <td>363291</td>\n",
       "      <td>20.5250</td>\n",
       "      <td>NaN</td>\n",
       "      <td>S</td>\n",
       "    </tr>\n",
       "    <tr>\n",
       "      <th>427</th>\n",
       "      <td>428</td>\n",
       "      <td>1</td>\n",
       "      <td>2</td>\n",
       "      <td>Phillips, Miss. Kate Florence (\"Mrs Kate Louis...</td>\n",
       "      <td>female</td>\n",
       "      <td>19.00</td>\n",
       "      <td>0</td>\n",
       "      <td>0</td>\n",
       "      <td>250655</td>\n",
       "      <td>26.0000</td>\n",
       "      <td>NaN</td>\n",
       "      <td>S</td>\n",
       "    </tr>\n",
       "    <tr>\n",
       "      <th>815</th>\n",
       "      <td>816</td>\n",
       "      <td>0</td>\n",
       "      <td>1</td>\n",
       "      <td>Fry, Mr. Richard</td>\n",
       "      <td>male</td>\n",
       "      <td>NaN</td>\n",
       "      <td>0</td>\n",
       "      <td>0</td>\n",
       "      <td>112058</td>\n",
       "      <td>0.0000</td>\n",
       "      <td>B102</td>\n",
       "      <td>S</td>\n",
       "    </tr>\n",
       "    <tr>\n",
       "      <th>97</th>\n",
       "      <td>98</td>\n",
       "      <td>1</td>\n",
       "      <td>1</td>\n",
       "      <td>Greenfield, Mr. William Bertram</td>\n",
       "      <td>male</td>\n",
       "      <td>23.00</td>\n",
       "      <td>0</td>\n",
       "      <td>1</td>\n",
       "      <td>PC 17759</td>\n",
       "      <td>63.3583</td>\n",
       "      <td>D10 D12</td>\n",
       "      <td>C</td>\n",
       "    </tr>\n",
       "    <tr>\n",
       "      <th>257</th>\n",
       "      <td>258</td>\n",
       "      <td>1</td>\n",
       "      <td>1</td>\n",
       "      <td>Cherry, Miss. Gladys</td>\n",
       "      <td>female</td>\n",
       "      <td>30.00</td>\n",
       "      <td>0</td>\n",
       "      <td>0</td>\n",
       "      <td>110152</td>\n",
       "      <td>86.5000</td>\n",
       "      <td>B77</td>\n",
       "      <td>S</td>\n",
       "    </tr>\n",
       "    <tr>\n",
       "      <th>777</th>\n",
       "      <td>778</td>\n",
       "      <td>1</td>\n",
       "      <td>3</td>\n",
       "      <td>Emanuel, Miss. Virginia Ethel</td>\n",
       "      <td>female</td>\n",
       "      <td>5.00</td>\n",
       "      <td>0</td>\n",
       "      <td>0</td>\n",
       "      <td>364516</td>\n",
       "      <td>12.4750</td>\n",
       "      <td>NaN</td>\n",
       "      <td>S</td>\n",
       "    </tr>\n",
       "    <tr>\n",
       "      <th>284</th>\n",
       "      <td>285</td>\n",
       "      <td>0</td>\n",
       "      <td>1</td>\n",
       "      <td>Smith, Mr. Richard William</td>\n",
       "      <td>male</td>\n",
       "      <td>NaN</td>\n",
       "      <td>0</td>\n",
       "      <td>0</td>\n",
       "      <td>113056</td>\n",
       "      <td>26.0000</td>\n",
       "      <td>A19</td>\n",
       "      <td>S</td>\n",
       "    </tr>\n",
       "  </tbody>\n",
       "</table>\n",
       "</div>"
      ],
      "text/plain": [
       "     PassengerId  Survived  Pclass  \\\n",
       "472          473         1       2   \n",
       "305          306         1       1   \n",
       "71            72         0       3   \n",
       "548          549         0       3   \n",
       "427          428         1       2   \n",
       "815          816         0       1   \n",
       "97            98         1       1   \n",
       "257          258         1       1   \n",
       "777          778         1       3   \n",
       "284          285         0       1   \n",
       "\n",
       "                                                  Name     Sex    Age  SibSp  \\\n",
       "472            West, Mrs. Edwy Arthur (Ada Mary Worth)  female  33.00      1   \n",
       "305                     Allison, Master. Hudson Trevor    male   0.92      1   \n",
       "71                          Goodwin, Miss. Lillian Amy  female  16.00      5   \n",
       "548                          Goldsmith, Mr. Frank John    male  33.00      1   \n",
       "427  Phillips, Miss. Kate Florence (\"Mrs Kate Louis...  female  19.00      0   \n",
       "815                                   Fry, Mr. Richard    male    NaN      0   \n",
       "97                     Greenfield, Mr. William Bertram    male  23.00      0   \n",
       "257                               Cherry, Miss. Gladys  female  30.00      0   \n",
       "777                      Emanuel, Miss. Virginia Ethel  female   5.00      0   \n",
       "284                         Smith, Mr. Richard William    male    NaN      0   \n",
       "\n",
       "     Parch      Ticket      Fare    Cabin Embarked  \n",
       "472      2  C.A. 34651   27.7500      NaN        S  \n",
       "305      2      113781  151.5500  C22 C26        S  \n",
       "71       2     CA 2144   46.9000      NaN        S  \n",
       "548      1      363291   20.5250      NaN        S  \n",
       "427      0      250655   26.0000      NaN        S  \n",
       "815      0      112058    0.0000     B102        S  \n",
       "97       1    PC 17759   63.3583  D10 D12        C  \n",
       "257      0      110152   86.5000      B77        S  \n",
       "777      0      364516   12.4750      NaN        S  \n",
       "284      0      113056   26.0000      A19        S  "
      ]
     },
     "execution_count": 2,
     "metadata": {},
     "output_type": "execute_result"
    },
    {
     "name": "stdout",
     "output_type": "stream",
     "text": [
      "<class 'pandas.core.frame.DataFrame'>\n",
      "RangeIndex: 891 entries, 0 to 890\n",
      "Data columns (total 12 columns):\n",
      " #   Column       Non-Null Count  Dtype  \n",
      "---  ------       --------------  -----  \n",
      " 0   PassengerId  891 non-null    int64  \n",
      " 1   Survived     891 non-null    int64  \n",
      " 2   Pclass       891 non-null    int64  \n",
      " 3   Name         891 non-null    object \n",
      " 4   Sex          891 non-null    object \n",
      " 5   Age          714 non-null    float64\n",
      " 6   SibSp        891 non-null    int64  \n",
      " 7   Parch        891 non-null    int64  \n",
      " 8   Ticket       891 non-null    object \n",
      " 9   Fare         891 non-null    float64\n",
      " 10  Cabin        204 non-null    object \n",
      " 11  Embarked     889 non-null    object \n",
      "dtypes: float64(2), int64(5), object(5)\n",
      "memory usage: 83.7+ KB\n"
     ]
    },
    {
     "data": {
      "text/html": [
       "<div>\n",
       "<style scoped>\n",
       "    .dataframe tbody tr th:only-of-type {\n",
       "        vertical-align: middle;\n",
       "    }\n",
       "\n",
       "    .dataframe tbody tr th {\n",
       "        vertical-align: top;\n",
       "    }\n",
       "\n",
       "    .dataframe thead th {\n",
       "        text-align: right;\n",
       "    }\n",
       "</style>\n",
       "<table border=\"1\" class=\"dataframe\">\n",
       "  <thead>\n",
       "    <tr style=\"text-align: right;\">\n",
       "      <th></th>\n",
       "      <th>PassengerId</th>\n",
       "      <th>Survived</th>\n",
       "      <th>Pclass</th>\n",
       "      <th>Age</th>\n",
       "      <th>SibSp</th>\n",
       "      <th>Parch</th>\n",
       "      <th>Fare</th>\n",
       "    </tr>\n",
       "  </thead>\n",
       "  <tbody>\n",
       "    <tr>\n",
       "      <th>count</th>\n",
       "      <td>891.000000</td>\n",
       "      <td>891.000000</td>\n",
       "      <td>891.000000</td>\n",
       "      <td>714.000000</td>\n",
       "      <td>891.000000</td>\n",
       "      <td>891.000000</td>\n",
       "      <td>891.000000</td>\n",
       "    </tr>\n",
       "    <tr>\n",
       "      <th>mean</th>\n",
       "      <td>446.000000</td>\n",
       "      <td>0.383838</td>\n",
       "      <td>2.308642</td>\n",
       "      <td>29.699118</td>\n",
       "      <td>0.523008</td>\n",
       "      <td>0.381594</td>\n",
       "      <td>32.204208</td>\n",
       "    </tr>\n",
       "    <tr>\n",
       "      <th>std</th>\n",
       "      <td>257.353842</td>\n",
       "      <td>0.486592</td>\n",
       "      <td>0.836071</td>\n",
       "      <td>14.526497</td>\n",
       "      <td>1.102743</td>\n",
       "      <td>0.806057</td>\n",
       "      <td>49.693429</td>\n",
       "    </tr>\n",
       "    <tr>\n",
       "      <th>min</th>\n",
       "      <td>1.000000</td>\n",
       "      <td>0.000000</td>\n",
       "      <td>1.000000</td>\n",
       "      <td>0.420000</td>\n",
       "      <td>0.000000</td>\n",
       "      <td>0.000000</td>\n",
       "      <td>0.000000</td>\n",
       "    </tr>\n",
       "    <tr>\n",
       "      <th>25%</th>\n",
       "      <td>223.500000</td>\n",
       "      <td>0.000000</td>\n",
       "      <td>2.000000</td>\n",
       "      <td>20.125000</td>\n",
       "      <td>0.000000</td>\n",
       "      <td>0.000000</td>\n",
       "      <td>7.910400</td>\n",
       "    </tr>\n",
       "    <tr>\n",
       "      <th>50%</th>\n",
       "      <td>446.000000</td>\n",
       "      <td>0.000000</td>\n",
       "      <td>3.000000</td>\n",
       "      <td>28.000000</td>\n",
       "      <td>0.000000</td>\n",
       "      <td>0.000000</td>\n",
       "      <td>14.454200</td>\n",
       "    </tr>\n",
       "    <tr>\n",
       "      <th>75%</th>\n",
       "      <td>668.500000</td>\n",
       "      <td>1.000000</td>\n",
       "      <td>3.000000</td>\n",
       "      <td>38.000000</td>\n",
       "      <td>1.000000</td>\n",
       "      <td>0.000000</td>\n",
       "      <td>31.000000</td>\n",
       "    </tr>\n",
       "    <tr>\n",
       "      <th>max</th>\n",
       "      <td>891.000000</td>\n",
       "      <td>1.000000</td>\n",
       "      <td>3.000000</td>\n",
       "      <td>80.000000</td>\n",
       "      <td>8.000000</td>\n",
       "      <td>6.000000</td>\n",
       "      <td>512.329200</td>\n",
       "    </tr>\n",
       "  </tbody>\n",
       "</table>\n",
       "</div>"
      ],
      "text/plain": [
       "       PassengerId    Survived      Pclass         Age       SibSp  \\\n",
       "count   891.000000  891.000000  891.000000  714.000000  891.000000   \n",
       "mean    446.000000    0.383838    2.308642   29.699118    0.523008   \n",
       "std     257.353842    0.486592    0.836071   14.526497    1.102743   \n",
       "min       1.000000    0.000000    1.000000    0.420000    0.000000   \n",
       "25%     223.500000    0.000000    2.000000   20.125000    0.000000   \n",
       "50%     446.000000    0.000000    3.000000   28.000000    0.000000   \n",
       "75%     668.500000    1.000000    3.000000   38.000000    1.000000   \n",
       "max     891.000000    1.000000    3.000000   80.000000    8.000000   \n",
       "\n",
       "            Parch        Fare  \n",
       "count  891.000000  891.000000  \n",
       "mean     0.381594   32.204208  \n",
       "std      0.806057   49.693429  \n",
       "min      0.000000    0.000000  \n",
       "25%      0.000000    7.910400  \n",
       "50%      0.000000   14.454200  \n",
       "75%      0.000000   31.000000  \n",
       "max      6.000000  512.329200  "
      ]
     },
     "execution_count": 2,
     "metadata": {},
     "output_type": "execute_result"
    }
   ],
   "source": [
    "# reading in data\n",
    "df_train = pd.read_csv('/kaggle/input/titanic/train.csv')\n",
    "df_test = pd.read_csv('/kaggle/input/titanic/test.csv')\n",
    "df_all = pd.concat([df_train, df_test], sort = True).reset_index(drop = True)\n",
    "\n",
    "df_train.name = \"Training Set\"\n",
    "df_test.name = \"Test Set\"\n",
    "df_all.name = \"All Set\"\n",
    "\n",
    "print(\"Shape of Training Set: {}\".format(df_train.shape))\n",
    "print(\"Shape of Test Set: {}\".format(df_test.shape))\n",
    "# df_train.head(10)\n",
    "\n",
    "# data_frame.sample() is a function that returns samples of given size from the dataFrame.\n",
    "# can use random_state to control the internal random process and reproduce the sampling\n",
    "# process.\n",
    "df_train.sample(10)\n",
    "\n",
    "## general info about the data (types and null info)\n",
    "df_train.info()\n",
    "\n",
    "## statistical basics\n",
    "df_train.describe()\n",
    "\n",
    "## memory usage (measured by bytes) \n",
    "## (vitually unnecessary cause memory usage are included in df.info() also)\n",
    "# df_train.memory_usage()"
   ]
  },
  {
   "cell_type": "markdown",
   "id": "75ba8b08",
   "metadata": {
    "papermill": {
     "duration": 0.00307,
     "end_time": "2022-06-22T13:40:11.506963",
     "exception": false,
     "start_time": "2022-06-22T13:40:11.503893",
     "status": "completed"
    },
    "tags": []
   },
   "source": [
    "## Explore df.column\n",
    "\n",
    "df.column is a special attribute of df. It contains names of all attributes (or so called column names) in a dataframe. All data are collected in type df.Index, which is similar to df.Series\n",
    "\n",
    "Methods like tolist() (derived from numpy) can be used to convert df.Index to type List. It is not nessesary to convert df.Index to List in order to iterate the data, however, df.Index is not promised to be iterable in future implementation.(Although it is iterable right now), So it is recommended to use a conversion before iterating it."
   ]
  },
  {
   "cell_type": "code",
   "execution_count": 3,
   "id": "7220c962",
   "metadata": {
    "execution": {
     "iopub.execute_input": "2022-06-22T13:40:11.516075Z",
     "iopub.status.busy": "2022-06-22T13:40:11.514564Z",
     "iopub.status.idle": "2022-06-22T13:40:11.524805Z",
     "shell.execute_reply": "2022-06-22T13:40:11.523865Z"
    },
    "papermill": {
     "duration": 0.016692,
     "end_time": "2022-06-22T13:40:11.526866",
     "exception": false,
     "start_time": "2022-06-22T13:40:11.510174",
     "status": "completed"
    },
    "tags": []
   },
   "outputs": [
    {
     "data": {
      "text/plain": [
       "Index(['PassengerId', 'Survived', 'Pclass', 'Name', 'Sex', 'Age', 'SibSp',\n",
       "       'Parch', 'Ticket', 'Fare', 'Cabin', 'Embarked'],\n",
       "      dtype='object')"
      ]
     },
     "execution_count": 3,
     "metadata": {},
     "output_type": "execute_result"
    },
    {
     "name": "stdout",
     "output_type": "stream",
     "text": [
      "<class 'pandas.core.indexes.base.Index'>\n"
     ]
    },
    {
     "data": {
      "text/plain": [
       "['PassengerId',\n",
       " 'Survived',\n",
       " 'Pclass',\n",
       " 'Name',\n",
       " 'Sex',\n",
       " 'Age',\n",
       " 'SibSp',\n",
       " 'Parch',\n",
       " 'Ticket',\n",
       " 'Fare',\n",
       " 'Cabin',\n",
       " 'Embarked']"
      ]
     },
     "execution_count": 3,
     "metadata": {},
     "output_type": "execute_result"
    },
    {
     "name": "stdout",
     "output_type": "stream",
     "text": [
      "<class 'list'>\n"
     ]
    }
   ],
   "source": [
    "# explore df.column\n",
    "df_train.columns\n",
    "print(type(df_train.columns))\n",
    "df_train.columns.tolist()\n",
    "print(type(df_train.columns.tolist()))"
   ]
  },
  {
   "cell_type": "markdown",
   "id": "10c5cef8",
   "metadata": {
    "papermill": {
     "duration": 0.003037,
     "end_time": "2022-06-22T13:40:11.535542",
     "exception": false,
     "start_time": "2022-06-22T13:40:11.532505",
     "status": "completed"
    },
    "tags": []
   },
   "source": [
    "## Detecting corrupted value and summation\n",
    "\n",
    "### Corrupted values\n",
    "\n",
    "isnull() method can be used to detect null values in dataframe or series. This is particularly useful.\n",
    "\n",
    "**isna() is equivalant to isnull() method. De facto, isnull is an alias for isna() method.**\n",
    "\n",
    "When applied to a df, the return value will be a dataframe, and a series when applied to a seried.\n",
    "\n",
    "**In Pandas, all corrupted values are represented using NaN (derived form np.NaN), and ''(void string) or np.inf are not considered as one of them. use pandas.options.mode.use_inf_as_na = True) if you wish to alter this beheavior.**\n",
    "\n",
    "### Summation\n",
    "\n",
    "sum() can be applied to calulate summation in Pandas.\n",
    "\n",
    "A trick to get the total number of NaNs in a Series is to use\n",
    "\n",
    "`series.isnull().sum()`\n",
    "\n",
    "because when calculating Boolean, python interpretor automatically treate True as 1 and False as 0."
   ]
  },
  {
   "cell_type": "code",
   "execution_count": 4,
   "id": "0c8b213a",
   "metadata": {
    "execution": {
     "iopub.execute_input": "2022-06-22T13:40:11.545371Z",
     "iopub.status.busy": "2022-06-22T13:40:11.544631Z",
     "iopub.status.idle": "2022-06-22T13:40:11.556471Z",
     "shell.execute_reply": "2022-06-22T13:40:11.555750Z"
    },
    "papermill": {
     "duration": 0.019467,
     "end_time": "2022-06-22T13:40:11.558612",
     "exception": false,
     "start_time": "2022-06-22T13:40:11.539145",
     "status": "completed"
    },
    "tags": []
   },
   "outputs": [
    {
     "data": {
      "text/plain": [
       "0      False\n",
       "1      False\n",
       "2      False\n",
       "3      False\n",
       "4      False\n",
       "       ...  \n",
       "886    False\n",
       "887    False\n",
       "888    False\n",
       "889    False\n",
       "890    False\n",
       "Name: PassengerId, Length: 891, dtype: bool"
      ]
     },
     "execution_count": 4,
     "metadata": {},
     "output_type": "execute_result"
    },
    {
     "data": {
      "text/plain": [
       "PassengerId      0\n",
       "Survived         0\n",
       "Pclass           0\n",
       "Name             0\n",
       "Sex              0\n",
       "Age            177\n",
       "SibSp            0\n",
       "Parch            0\n",
       "Ticket           0\n",
       "Fare             0\n",
       "Cabin          687\n",
       "Embarked         2\n",
       "dtype: int64"
      ]
     },
     "execution_count": 4,
     "metadata": {},
     "output_type": "execute_result"
    }
   ],
   "source": [
    "df_train[df_train.columns.tolist()[0]].isnull()\n",
    "# df_train.isnull()\n",
    "\n",
    "df_train.isnull().sum()"
   ]
  },
  {
   "cell_type": "code",
   "execution_count": 5,
   "id": "e4400a6d",
   "metadata": {
    "execution": {
     "iopub.execute_input": "2022-06-22T13:40:11.568665Z",
     "iopub.status.busy": "2022-06-22T13:40:11.567991Z",
     "iopub.status.idle": "2022-06-22T13:40:11.575697Z",
     "shell.execute_reply": "2022-06-22T13:40:11.574803Z"
    },
    "papermill": {
     "duration": 0.015021,
     "end_time": "2022-06-22T13:40:11.577582",
     "exception": false,
     "start_time": "2022-06-22T13:40:11.562561",
     "status": "completed"
    },
    "tags": []
   },
   "outputs": [
    {
     "data": {
      "text/plain": [
       "2.1"
      ]
     },
     "execution_count": 5,
     "metadata": {},
     "output_type": "execute_result"
    },
    {
     "data": {
      "text/plain": [
       "2"
      ]
     },
     "execution_count": 5,
     "metadata": {},
     "output_type": "execute_result"
    }
   ],
   "source": [
    "pd.Series([0,False,1.1,True]).sum()\n",
    "\n",
    "True + True"
   ]
  },
  {
   "cell_type": "code",
   "execution_count": null,
   "id": "fadda477",
   "metadata": {
    "papermill": {
     "duration": 0.003429,
     "end_time": "2022-06-22T13:40:11.584965",
     "exception": false,
     "start_time": "2022-06-22T13:40:11.581536",
     "status": "completed"
    },
    "tags": []
   },
   "outputs": [],
   "source": []
  }
 ],
 "metadata": {
  "kernelspec": {
   "display_name": "Python 3",
   "language": "python",
   "name": "python3"
  },
  "language_info": {
   "codemirror_mode": {
    "name": "ipython",
    "version": 3
   },
   "file_extension": ".py",
   "mimetype": "text/x-python",
   "name": "python",
   "nbconvert_exporter": "python",
   "pygments_lexer": "ipython3",
   "version": "3.7.12"
  },
  "papermill": {
   "default_parameters": {},
   "duration": 11.734352,
   "end_time": "2022-06-22T13:40:12.310583",
   "environment_variables": {},
   "exception": null,
   "input_path": "__notebook__.ipynb",
   "output_path": "__notebook__.ipynb",
   "parameters": {},
   "start_time": "2022-06-22T13:40:00.576231",
   "version": "2.3.4"
  }
 },
 "nbformat": 4,
 "nbformat_minor": 5
}
